{
 "cells": [
  {
   "cell_type": "markdown",
   "metadata": {},
   "source": [
    "# What is the True Normal Human Body Temperature? \n",
    "\n",
    "#### Background\n",
    "\n",
    "The mean normal body temperature was held to be 37$^{\\circ}$C or 98.6$^{\\circ}$F for more than 120 years since it was first conceptualized and reported by Carl Wunderlich in a famous 1868 book. But, is this value statistically correct?"
   ]
  },
  {
   "cell_type": "markdown",
   "metadata": {},
   "source": [
    "<div class=\"span5 alert alert-info\">\n",
    "<h3>Exercises</h3>\n",
    "\n",
    "<p>In this exercise, you will analyze a dataset of human body temperatures and employ the concepts of hypothesis testing, confidence intervals, and statistical significance.</p>\n",
    "\n",
    "<p>Answer the following questions <b>in this notebook below and submit to your Github account</b>.</p> \n",
    "\n",
    "<ol>\n",
    "<li>  Is the distribution of body temperatures normal? \n",
    "    <ul>\n",
    "    <li> Although this is not a requirement for CLT to hold (read CLT carefully), it gives us some peace of mind that the population may also be normally distributed if we assume that this sample is representative of the population.\n",
    "    </ul>\n",
    "<li>  Is the sample size large? Are the observations independent?\n",
    "    <ul>\n",
    "    <li> Remember that this is a condition for the CLT, and hence the statistical tests we are using, to apply.\n",
    "    </ul>\n",
    "<li>  Is the true population mean really 98.6 degrees F?\n",
    "    <ul>\n",
    "    <li> Would you use a one-sample or two-sample test? Why?\n",
    "    <li> In this situation, is it appropriate to use the $t$ or $z$ statistic? \n",
    "    <li> Now try using the other test. How is the result be different? Why?\n",
    "    </ul>\n",
    "<li>  At what temperature should we consider someone's temperature to be \"abnormal\"?\n",
    "    <ul>\n",
    "    <li> Start by computing the margin of error and confidence interval.\n",
    "    </ul>\n",
    "<li>  Is there a significant difference between males and females in normal temperature?\n",
    "    <ul>\n",
    "    <li> What test did you use and why?\n",
    "    <li> Write a story with your conclusion in the context of the original problem.\n",
    "    </ul>\n",
    "</ol>\n",
    "\n",
    "You can include written notes in notebook cells using Markdown: \n",
    "   - In the control panel at the top, choose Cell > Cell Type > Markdown\n",
    "   - Markdown syntax: http://nestacms.com/docs/creating-content/markdown-cheat-sheet\n",
    "\n",
    "#### Resources\n",
    "\n",
    "+ Information and data sources: http://www.amstat.org/publications/jse/datasets/normtemp.txt, http://www.amstat.org/publications/jse/jse_data_archive.htm\n",
    "+ Markdown syntax: http://nestacms.com/docs/creating-content/markdown-cheat-sheet\n",
    "\n",
    "****\n",
    "</div>"
   ]
  },
  {
   "cell_type": "code",
   "execution_count": 10,
   "metadata": {
    "collapsed": true
   },
   "outputs": [],
   "source": [
    "import pandas as pd\n",
    "import re\n",
    "%matplotlib inline\n",
    "import matplotlib.pyplot as plt\n",
    "import numpy as np\n",
    "import scipy as sp\n",
    "import seaborn as sns\n",
    "sns.set_style(\"whitegrid\")\n",
    "import calendar\n",
    "\n",
    "df = pd.read_csv('data/human_body_temperature.csv')"
   ]
  },
  {
   "cell_type": "code",
   "execution_count": 49,
   "metadata": {},
   "outputs": [
    {
     "name": "stdout",
     "output_type": "stream",
     "text": [
      "\n",
      "With .25 p-value, we fail to reject the null hypothesis that the distribution comes from a normal distribution:\n",
      "\n",
      "NormaltestResult(statistic=2.7038014333192031, pvalue=0.2587479863488254)\n",
      "\n",
      "Standard error of measurement:  0.0643044168379\n",
      "\n",
      "Standard Deviation:  0.730357778905\n",
      "\n",
      "DescribeResult(nobs=130, minmax=(96.299999999999997, 100.8), mean=98.249230769230749, variance=0.53755754323196159, skewness=-0.004367976879081625, kurtosis=0.7049597854114693)\n"
     ]
    },
    {
     "data": {
      "image/png": "[encoded data removed]",
      "text/plain": [
       "<matplotlib.figure.Figure at 0x117e09690>"
      ]
     },
     "metadata": {},
     "output_type": "display_data"
    }
   ],
   "source": [
    "# 1. The distribution is roughly normal according the below visualization, \n",
    "#    with the follow qualifications:\n",
    "\n",
    "# Let's see how much it differs from the norm\n",
    "print '\\nWith .25 p-value, we fail to reject the null hypothesis that the distribution comes from a normal distribution:'\n",
    "print '\\n', sp.stats.normaltest(df['temperature'])\n",
    "print '\\nStandard error of measurement: ', sp.stats.sem(df['temperature'])\n",
    "print '\\nStandard Deviation: ', np.std(df['temperature'])\n",
    "print '\\n', sp.stats.describe(df['temperature'])\n",
    "\n",
    "sns.distplot(df['temperature']);"
   ]
  },
  {
   "cell_type": "code",
   "execution_count": 31,
   "metadata": {},
   "outputs": [
    {
     "name": "stdout",
     "output_type": "stream",
     "text": [
      "The sample size is:  130\n",
      "\n",
      "The same size is greater than 30, which for CTL means that the sample mean should be a good approximation of the population mean\n"
     ]
    }
   ],
   "source": [
    "# 2. Is the sample size large? Are the observations independent?\n",
    "\n",
    "print 'The sample size is: ', len(df)\n",
    "print '\\nThe same size is greater than 30, which for CTL means that the sample mean should be a good approximation of the population mean'\n"
   ]
  },
  {
   "cell_type": "code",
   "execution_count": 36,
   "metadata": {},
   "outputs": [
    {
     "name": "stdout",
     "output_type": "stream",
     "text": [
      "The true population mean is not 98.6.     The statistical mean of the population can be approximated using the data:  98.2492307692\n"
     ]
    }
   ],
   "source": [
    "# 3. Is the true population mean really 98.6 degrees F?\n",
    "\n",
    "print 'The true population mean is not 98.6.     The statistical mean of the population can be approximated using the data: ', df['temperature'].mean()\n"
   ]
  },
  {
   "cell_type": "code",
   "execution_count": 55,
   "metadata": {},
   "outputs": [
    {
     "name": "stdout",
     "output_type": "stream",
     "text": [
      "abnormal body temperatures fall outside the following interval: \n",
      "(96.804200016139845, 99.69426152232171)\n"
     ]
    }
   ],
   "source": [
    "# 4. At what temperature should we consider someone's temperature to be \"abnormal\"?\n",
    "\n",
    "# For general Bayesian statistics:\n",
    "sp.stats.bayes_mvs(df['temperature'])\n",
    "\n",
    "# For confidence intervals \n",
    "print 'abnormal body temperatures fall outside the following interval: \\n', \\\n",
    "sp.stats.t.interval(0.95, len(df)-1, loc=np.mean(df['temperature']), scale=np.std(df['temperature']))"
   ]
  },
  {
   "cell_type": "code",
   "execution_count": 79,
   "metadata": {},
   "outputs": [
    {
     "name": "stdout",
     "output_type": "stream",
     "text": [
      "Mean of Male samples  :  98.1046153846\n",
      "Mean of Female samples:  98.3938461538\n",
      "\n",
      "Male  :  NormaltestResult(statistic=0.89119996669505019, pvalue=0.64043990745691226)\n",
      "Female:  NormaltestResult(statistic=4.7354381129084002, pvalue=0.093694193898563982)\n",
      "\n",
      "Standard error of measurement (Male)  :  0.0866699855229\n",
      "Standard error of measurement (Female):  0.0922183060804\n",
      "\n",
      "Male  :  DescribeResult(nobs=65, minmax=(96.299999999999997, 99.5), mean=98.104615384615371, variance=0.48825961538461526, skewness=-0.20841723175963575, kurtosis=-0.43415936141781497)\n",
      "\n",
      "Female:  DescribeResult(nobs=65, minmax=(96.400000000000006, 100.8), mean=98.393846153846141, variance=0.55277403846153739, skewness=0.09590698007442927, kurtosis=1.4676242642332449)\n"
     ]
    },
    {
     "data": {
      "image/png": "[encoded data removed]",
      "text/plain": [
       "<matplotlib.figure.Figure at 0x11874e9d0>"
      ]
     },
     "metadata": {},
     "output_type": "display_data"
    }
   ],
   "source": [
    "# 5. Is there a significant difference between males and females in normal temperature?\n",
    "\n",
    "Male = df[df['gender'] == 'M']['temperature']\n",
    "Female = df[df['gender'] == 'F']['temperature']\n",
    "\n",
    "\n",
    "print 'Mean of Male samples  : ', df[df['gender'] == 'M']['temperature'].mean()\n",
    "print 'Mean of Female samples: ', df[df['gender'] == 'F']['temperature'].mean()\n",
    "\n",
    "print '\\nMale  : ', sp.stats.normaltest(Male)\n",
    "print 'Female: ', sp.stats.normaltest(Female)\n",
    "print '\\nStandard error of measurement (Male)  : ', sp.stats.sem(Male)\n",
    "print 'Standard error of measurement (Female): ', sp.stats.sem(Female)\n",
    "\n",
    "print '\\nMale  : ', sp.stats.describe(Male)\n",
    "print '\\nFemale: ', sp.stats.describe(Female)\n",
    "sns.distplot(Male, label='Male', color='blue')\n",
    "sns.distplot(Female, color='green');"
   ]
  },
  {
   "cell_type": "code",
   "execution_count": 61,
   "metadata": {},
   "outputs": [
    {
     "data": {
      "text/plain": [
       "Ks_2sampResult(statistic=0.18461538461538457, pvalue=0.19539014047941772)"
      ]
     },
     "execution_count": 61,
     "metadata": {},
     "output_type": "execute_result"
    }
   ],
   "source": [
    "from scipy.stats import ks_2samp\n",
    "# Kolmogorov-Smirnov Statistic\n",
    "ks_2samp(Male, Female)\n",
    "\n",
    "# We CANNOT reject the null hypothesis that the samples are drawen from the same distribution \n",
    "# Because the p-value is high and the K-S (Kolmogorov-Smirnov) statistic is high\n",
    "\n",
    "# Thus there is no significant difference between male and female normal temperature."
   ]
  }
 ],
 "metadata": {
  "kernelspec": {
   "display_name": "Python 2",
   "language": "python",
   "name": "python2"
  },
  "language_info": {
   "codemirror_mode": {
    "name": "ipython",
    "version": 2
   },
   "file_extension": ".py",
   "mimetype": "text/x-python",
   "name": "python",
   "nbconvert_exporter": "python",
   "pygments_lexer": "ipython2",
   "version": "2.7.13"
  }
 },
 "nbformat": 4,
 "nbformat_minor": 1
}
