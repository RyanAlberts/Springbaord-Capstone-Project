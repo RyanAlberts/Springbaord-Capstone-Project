{
 "cells": [
  {
   "cell_type": "markdown",
   "metadata": {},
   "source": [
    "## Data Story\n",
    "### Instacart Market Basket Analysis EDA: Feature Set\n",
    "----\n",
    "Ryan Alexander Alberts\n",
    "\n",
    "6/27/2017"
   ]
  },
  {
   "cell_type": "markdown",
   "metadata": {},
   "source": [
    "#### In this notebook, I want to explore features that may drive a customer's decision strategy for their next order.\n",
    "\n",
    "----\n",
    "\n",
    "* __Define bounds of test set:__\n",
    "    * __Products__ (for each customer)\n",
    "        * all previously ordered products\n",
    "        * categories for all products\n",
    "        * total number of products\n",
    "        * variability of product count across orders\n",
    "        * [reorder > 1] --vs-- [reorder == 1 and in most recent order]\n",
    "    * __Customers__\n",
    "        * reorder rate (% of products w/ 'reordered' == 1)\n",
    "        * order count\n",
    "        * for last order|product: # of orders since last occurance\n",
    "    * __Basket Size__\n",
    "        * max, min, avg. product count per customer\n",
    "        * weighted avg. product count (more recent weighted more heavily)\n",
    "    * __'None'__\n",
    "        * subset of customers|orders for which 'None' may work\n",
    "        * behavior in context of 'ideal' order product count\n",
    "\n",
    "\n",
    "* __Explore baseline submissions__\n",
    "    * orders containing all previously ordered products\n",
    "    * orders including subsets of previously ordered products \n",
    "        * based on frequency\n",
    "        * based on most recent order(s)\n",
    "\n",
    "\n",
    "* __Future Topics__\n",
    "    * Order Frequency\n",
    "    * Days since last order\n",
    "    * day of the week, hour of the day\n",
    "    * Macro-level trends in time-data, like spikes in product count in first xx% or last xx% of all customers orders, corresonding to Summer or holidays\n",
    "    * Weekday vs. Weekend\n",
    "    * \n",
    "\n",
    "\n",
    "---\n"
   ]
  },
  {
   "cell_type": "code",
   "execution_count": null,
   "metadata": {
    "collapsed": true
   },
   "outputs": [],
   "source": []
  },
  {
   "cell_type": "code",
   "execution_count": null,
   "metadata": {
    "collapsed": true
   },
   "outputs": [],
   "source": []
  },
  {
   "cell_type": "code",
   "execution_count": 1,
   "metadata": {
    "collapsed": true
   },
   "outputs": [],
   "source": [
    "import pandas as pd\n",
    "import re\n",
    "%matplotlib inline\n",
    "import matplotlib.pyplot as plt\n",
    "import numpy as np\n",
    "import seaborn as sns\n",
    "sns.set_style(\"whitegrid\")\n",
    "import calendar"
   ]
  },
  {
   "cell_type": "code",
   "execution_count": 2,
   "metadata": {
    "collapsed": true
   },
   "outputs": [],
   "source": [
    "# First, let's import requisite files\n",
    "orders      = pd.read_csv('../Instacart_Input/orders.csv')\n",
    "prior_set   = pd.read_csv('../Instacart_Input/order_products__prior.csv')\n",
    "train_set   = pd.read_csv('../Instacart_Input/order_products__train.csv')\n",
    "aisles      = pd.read_csv('../Instacart_Input/aisles.csv')\n",
    "departments = pd.read_csv('../Instacart_Input/departments.csv')\n",
    "products    = pd.read_csv('../Instacart_Input/products.csv')"
   ]
  },
  {
   "cell_type": "code",
   "execution_count": 3,
   "metadata": {
    "collapsed": false
   },
   "outputs": [
    {
     "data": {
      "text/html": [
       "<div>\n",
       "<table border=\"1\" class=\"dataframe\">\n",
       "  <thead>\n",
       "    <tr style=\"text-align: right;\">\n",
       "      <th></th>\n",
       "      <th>order_id</th>\n",
       "      <th>user_id</th>\n",
       "      <th>eval_set</th>\n",
       "      <th>order_number</th>\n",
       "      <th>order_dow</th>\n",
       "      <th>order_hour_of_day</th>\n",
       "      <th>days_since_prior_order</th>\n",
       "    </tr>\n",
       "  </thead>\n",
       "  <tbody>\n",
       "    <tr>\n",
       "      <th>0</th>\n",
       "      <td>2539329</td>\n",
       "      <td>1</td>\n",
       "      <td>prior</td>\n",
       "      <td>1</td>\n",
       "      <td>2</td>\n",
       "      <td>8</td>\n",
       "      <td>NaN</td>\n",
       "    </tr>\n",
       "    <tr>\n",
       "      <th>1</th>\n",
       "      <td>2398795</td>\n",
       "      <td>1</td>\n",
       "      <td>prior</td>\n",
       "      <td>2</td>\n",
       "      <td>3</td>\n",
       "      <td>7</td>\n",
       "      <td>15.0</td>\n",
       "    </tr>\n",
       "    <tr>\n",
       "      <th>2</th>\n",
       "      <td>473747</td>\n",
       "      <td>1</td>\n",
       "      <td>prior</td>\n",
       "      <td>3</td>\n",
       "      <td>3</td>\n",
       "      <td>12</td>\n",
       "      <td>21.0</td>\n",
       "    </tr>\n",
       "    <tr>\n",
       "      <th>3</th>\n",
       "      <td>2254736</td>\n",
       "      <td>1</td>\n",
       "      <td>prior</td>\n",
       "      <td>4</td>\n",
       "      <td>4</td>\n",
       "      <td>7</td>\n",
       "      <td>29.0</td>\n",
       "    </tr>\n",
       "    <tr>\n",
       "      <th>4</th>\n",
       "      <td>431534</td>\n",
       "      <td>1</td>\n",
       "      <td>prior</td>\n",
       "      <td>5</td>\n",
       "      <td>4</td>\n",
       "      <td>15</td>\n",
       "      <td>28.0</td>\n",
       "    </tr>\n",
       "  </tbody>\n",
       "</table>\n",
       "</div>"
      ],
      "text/plain": [
       "   order_id  user_id eval_set  order_number  order_dow  order_hour_of_day  \\\n",
       "0   2539329        1    prior             1          2                  8   \n",
       "1   2398795        1    prior             2          3                  7   \n",
       "2    473747        1    prior             3          3                 12   \n",
       "3   2254736        1    prior             4          4                  7   \n",
       "4    431534        1    prior             5          4                 15   \n",
       "\n",
       "   days_since_prior_order  \n",
       "0                     NaN  \n",
       "1                    15.0  \n",
       "2                    21.0  \n",
       "3                    29.0  \n",
       "4                    28.0  "
      ]
     },
     "execution_count": 3,
     "metadata": {},
     "output_type": "execute_result"
    }
   ],
   "source": [
    "orders.head()"
   ]
  },
  {
   "cell_type": "code",
   "execution_count": 4,
   "metadata": {
    "collapsed": false
   },
   "outputs": [
    {
     "data": {
      "text/html": [
       "<div>\n",
       "<table border=\"1\" class=\"dataframe\">\n",
       "  <thead>\n",
       "    <tr style=\"text-align: right;\">\n",
       "      <th></th>\n",
       "      <th>order_id</th>\n",
       "      <th>user_id</th>\n",
       "      <th>eval_set</th>\n",
       "      <th>order_number</th>\n",
       "      <th>order_dow</th>\n",
       "      <th>order_hour_of_day</th>\n",
       "      <th>days_since_prior_order</th>\n",
       "    </tr>\n",
       "  </thead>\n",
       "  <tbody>\n",
       "    <tr>\n",
       "      <th>38</th>\n",
       "      <td>2774568</td>\n",
       "      <td>3</td>\n",
       "      <td>test</td>\n",
       "      <td>13</td>\n",
       "      <td>5</td>\n",
       "      <td>15</td>\n",
       "      <td>11.0</td>\n",
       "    </tr>\n",
       "    <tr>\n",
       "      <th>44</th>\n",
       "      <td>329954</td>\n",
       "      <td>4</td>\n",
       "      <td>test</td>\n",
       "      <td>6</td>\n",
       "      <td>3</td>\n",
       "      <td>12</td>\n",
       "      <td>30.0</td>\n",
       "    </tr>\n",
       "    <tr>\n",
       "      <th>53</th>\n",
       "      <td>1528013</td>\n",
       "      <td>6</td>\n",
       "      <td>test</td>\n",
       "      <td>4</td>\n",
       "      <td>3</td>\n",
       "      <td>16</td>\n",
       "      <td>22.0</td>\n",
       "    </tr>\n",
       "    <tr>\n",
       "      <th>96</th>\n",
       "      <td>1376945</td>\n",
       "      <td>11</td>\n",
       "      <td>test</td>\n",
       "      <td>8</td>\n",
       "      <td>6</td>\n",
       "      <td>11</td>\n",
       "      <td>8.0</td>\n",
       "    </tr>\n",
       "    <tr>\n",
       "      <th>102</th>\n",
       "      <td>1356845</td>\n",
       "      <td>12</td>\n",
       "      <td>test</td>\n",
       "      <td>6</td>\n",
       "      <td>1</td>\n",
       "      <td>20</td>\n",
       "      <td>30.0</td>\n",
       "    </tr>\n",
       "  </tbody>\n",
       "</table>\n",
       "</div>"
      ],
      "text/plain": [
       "     order_id  user_id eval_set  order_number  order_dow  order_hour_of_day  \\\n",
       "38    2774568        3     test            13          5                 15   \n",
       "44     329954        4     test             6          3                 12   \n",
       "53    1528013        6     test             4          3                 16   \n",
       "96    1376945       11     test             8          6                 11   \n",
       "102   1356845       12     test             6          1                 20   \n",
       "\n",
       "     days_since_prior_order  \n",
       "38                     11.0  \n",
       "44                     30.0  \n",
       "53                     22.0  \n",
       "96                      8.0  \n",
       "102                    30.0  "
      ]
     },
     "execution_count": 4,
     "metadata": {},
     "output_type": "execute_result"
    }
   ],
   "source": [
    "test = orders[orders['eval_set'] == 'test']\n",
    "test.head()"
   ]
  },
  {
   "cell_type": "code",
   "execution_count": 5,
   "metadata": {
    "collapsed": false
   },
   "outputs": [
    {
     "data": {
      "text/html": [
       "<div>\n",
       "<table border=\"1\" class=\"dataframe\">\n",
       "  <thead>\n",
       "    <tr style=\"text-align: right;\">\n",
       "      <th></th>\n",
       "      <th>order_id</th>\n",
       "      <th>user_id</th>\n",
       "      <th>eval_set</th>\n",
       "      <th>order_number</th>\n",
       "      <th>order_dow</th>\n",
       "      <th>order_hour_of_day</th>\n",
       "      <th>days_since_prior_order</th>\n",
       "      <th>product_id</th>\n",
       "      <th>add_to_cart_order</th>\n",
       "      <th>reordered</th>\n",
       "    </tr>\n",
       "  </thead>\n",
       "  <tbody>\n",
       "    <tr>\n",
       "      <th>0</th>\n",
       "      <td>1374495</td>\n",
       "      <td>3</td>\n",
       "      <td>prior</td>\n",
       "      <td>1</td>\n",
       "      <td>1</td>\n",
       "      <td>14</td>\n",
       "      <td>NaN</td>\n",
       "      <td>9387</td>\n",
       "      <td>1</td>\n",
       "      <td>0</td>\n",
       "    </tr>\n",
       "    <tr>\n",
       "      <th>1</th>\n",
       "      <td>1374495</td>\n",
       "      <td>3</td>\n",
       "      <td>prior</td>\n",
       "      <td>1</td>\n",
       "      <td>1</td>\n",
       "      <td>14</td>\n",
       "      <td>NaN</td>\n",
       "      <td>17668</td>\n",
       "      <td>2</td>\n",
       "      <td>0</td>\n",
       "    </tr>\n",
       "    <tr>\n",
       "      <th>2</th>\n",
       "      <td>1374495</td>\n",
       "      <td>3</td>\n",
       "      <td>prior</td>\n",
       "      <td>1</td>\n",
       "      <td>1</td>\n",
       "      <td>14</td>\n",
       "      <td>NaN</td>\n",
       "      <td>15143</td>\n",
       "      <td>3</td>\n",
       "      <td>0</td>\n",
       "    </tr>\n",
       "    <tr>\n",
       "      <th>3</th>\n",
       "      <td>1374495</td>\n",
       "      <td>3</td>\n",
       "      <td>prior</td>\n",
       "      <td>1</td>\n",
       "      <td>1</td>\n",
       "      <td>14</td>\n",
       "      <td>NaN</td>\n",
       "      <td>16797</td>\n",
       "      <td>4</td>\n",
       "      <td>0</td>\n",
       "    </tr>\n",
       "    <tr>\n",
       "      <th>4</th>\n",
       "      <td>1374495</td>\n",
       "      <td>3</td>\n",
       "      <td>prior</td>\n",
       "      <td>1</td>\n",
       "      <td>1</td>\n",
       "      <td>14</td>\n",
       "      <td>NaN</td>\n",
       "      <td>39190</td>\n",
       "      <td>5</td>\n",
       "      <td>0</td>\n",
       "    </tr>\n",
       "  </tbody>\n",
       "</table>\n",
       "</div>"
      ],
      "text/plain": [
       "   order_id  user_id eval_set  order_number  order_dow  order_hour_of_day  \\\n",
       "0   1374495        3    prior             1          1                 14   \n",
       "1   1374495        3    prior             1          1                 14   \n",
       "2   1374495        3    prior             1          1                 14   \n",
       "3   1374495        3    prior             1          1                 14   \n",
       "4   1374495        3    prior             1          1                 14   \n",
       "\n",
       "   days_since_prior_order  product_id  add_to_cart_order  reordered  \n",
       "0                     NaN        9387                  1          0  \n",
       "1                     NaN       17668                  2          0  \n",
       "2                     NaN       15143                  3          0  \n",
       "3                     NaN       16797                  4          0  \n",
       "4                     NaN       39190                  5          0  "
      ]
     },
     "execution_count": 5,
     "metadata": {},
     "output_type": "execute_result"
    }
   ],
   "source": [
    "# order history for all user_ids in test set\n",
    "test_user_orders = orders[orders['user_id'].isin(test['user_id'].values)]\n",
    "test_user_orders = test_user_orders.merge(prior_set, on='order_id')\n",
    "test_user_orders.head()"
   ]
  },
  {
   "cell_type": "code",
   "execution_count": null,
   "metadata": {
    "collapsed": false
   },
   "outputs": [],
   "source": []
  },
  {
   "cell_type": "code",
   "execution_count": 6,
   "metadata": {
    "collapsed": false
   },
   "outputs": [
    {
     "data": {
      "text/html": [
       "<div>\n",
       "<table border=\"1\" class=\"dataframe\">\n",
       "  <thead>\n",
       "    <tr style=\"text-align: right;\">\n",
       "      <th></th>\n",
       "      <th>order_id</th>\n",
       "      <th>user_id</th>\n",
       "      <th>eval_set</th>\n",
       "      <th>order_number</th>\n",
       "      <th>order_dow</th>\n",
       "      <th>order_hour_of_day</th>\n",
       "      <th>days_since_prior_order</th>\n",
       "      <th>product_id</th>\n",
       "      <th>add_to_cart_order</th>\n",
       "      <th>reordered</th>\n",
       "      <th>product_name</th>\n",
       "      <th>department</th>\n",
       "      <th>aisle</th>\n",
       "    </tr>\n",
       "  </thead>\n",
       "  <tbody>\n",
       "    <tr>\n",
       "      <th>0</th>\n",
       "      <td>1374495</td>\n",
       "      <td>3</td>\n",
       "      <td>prior</td>\n",
       "      <td>1</td>\n",
       "      <td>1</td>\n",
       "      <td>14</td>\n",
       "      <td>NaN</td>\n",
       "      <td>9387</td>\n",
       "      <td>1</td>\n",
       "      <td>0</td>\n",
       "      <td>Granny Smith Apples</td>\n",
       "      <td>produce</td>\n",
       "      <td>fresh fruits</td>\n",
       "    </tr>\n",
       "    <tr>\n",
       "      <th>1</th>\n",
       "      <td>2037211</td>\n",
       "      <td>3</td>\n",
       "      <td>prior</td>\n",
       "      <td>4</td>\n",
       "      <td>2</td>\n",
       "      <td>18</td>\n",
       "      <td>20.0</td>\n",
       "      <td>9387</td>\n",
       "      <td>3</td>\n",
       "      <td>1</td>\n",
       "      <td>Granny Smith Apples</td>\n",
       "      <td>produce</td>\n",
       "      <td>fresh fruits</td>\n",
       "    </tr>\n",
       "    <tr>\n",
       "      <th>2</th>\n",
       "      <td>2710558</td>\n",
       "      <td>3</td>\n",
       "      <td>prior</td>\n",
       "      <td>5</td>\n",
       "      <td>0</td>\n",
       "      <td>17</td>\n",
       "      <td>12.0</td>\n",
       "      <td>9387</td>\n",
       "      <td>2</td>\n",
       "      <td>1</td>\n",
       "      <td>Granny Smith Apples</td>\n",
       "      <td>produce</td>\n",
       "      <td>fresh fruits</td>\n",
       "    </tr>\n",
       "    <tr>\n",
       "      <th>3</th>\n",
       "      <td>1972919</td>\n",
       "      <td>3</td>\n",
       "      <td>prior</td>\n",
       "      <td>6</td>\n",
       "      <td>0</td>\n",
       "      <td>16</td>\n",
       "      <td>7.0</td>\n",
       "      <td>9387</td>\n",
       "      <td>3</td>\n",
       "      <td>1</td>\n",
       "      <td>Granny Smith Apples</td>\n",
       "      <td>produce</td>\n",
       "      <td>fresh fruits</td>\n",
       "    </tr>\n",
       "    <tr>\n",
       "      <th>4</th>\n",
       "      <td>1839752</td>\n",
       "      <td>3</td>\n",
       "      <td>prior</td>\n",
       "      <td>7</td>\n",
       "      <td>0</td>\n",
       "      <td>15</td>\n",
       "      <td>7.0</td>\n",
       "      <td>9387</td>\n",
       "      <td>9</td>\n",
       "      <td>1</td>\n",
       "      <td>Granny Smith Apples</td>\n",
       "      <td>produce</td>\n",
       "      <td>fresh fruits</td>\n",
       "    </tr>\n",
       "  </tbody>\n",
       "</table>\n",
       "</div>"
      ],
      "text/plain": [
       "   order_id  user_id eval_set  order_number  order_dow  order_hour_of_day  \\\n",
       "0   1374495        3    prior             1          1                 14   \n",
       "1   2037211        3    prior             4          2                 18   \n",
       "2   2710558        3    prior             5          0                 17   \n",
       "3   1972919        3    prior             6          0                 16   \n",
       "4   1839752        3    prior             7          0                 15   \n",
       "\n",
       "   days_since_prior_order  product_id  add_to_cart_order  reordered  \\\n",
       "0                     NaN        9387                  1          0   \n",
       "1                    20.0        9387                  3          1   \n",
       "2                    12.0        9387                  2          1   \n",
       "3                     7.0        9387                  3          1   \n",
       "4                     7.0        9387                  9          1   \n",
       "\n",
       "          product_name department         aisle  \n",
       "0  Granny Smith Apples    produce  fresh fruits  \n",
       "1  Granny Smith Apples    produce  fresh fruits  \n",
       "2  Granny Smith Apples    produce  fresh fruits  \n",
       "3  Granny Smith Apples    produce  fresh fruits  \n",
       "4  Granny Smith Apples    produce  fresh fruits  "
      ]
     },
     "execution_count": 6,
     "metadata": {},
     "output_type": "execute_result"
    }
   ],
   "source": [
    "# Let's add in department and aisle data, now that we have products\n",
    "\n",
    "products_df = pd.merge(left=pd.merge(products, right=departments, on='department_id'), \n",
    "                       right=aisles, on='aisle_id')\n",
    "products_df = products_df.drop(['department_id', 'aisle_id'], axis=1)\n",
    "test_user_orders = test_user_orders.merge(products_df, on='product_id')\n",
    "test_user_orders.head()"
   ]
  },
  {
   "cell_type": "code",
   "execution_count": null,
   "metadata": {
    "collapsed": false
   },
   "outputs": [],
   "source": []
  },
  {
   "cell_type": "code",
   "execution_count": 7,
   "metadata": {
    "collapsed": false
   },
   "outputs": [
    {
     "data": {
      "text/html": [
       "<div>\n",
       "<table border=\"1\" class=\"dataframe\">\n",
       "  <thead>\n",
       "    <tr style=\"text-align: right;\">\n",
       "      <th></th>\n",
       "      <th>order_id</th>\n",
       "    </tr>\n",
       "    <tr>\n",
       "      <th>user_id</th>\n",
       "      <th></th>\n",
       "    </tr>\n",
       "  </thead>\n",
       "  <tbody>\n",
       "    <tr>\n",
       "      <th>3</th>\n",
       "      <td>[1374495, 2037211, 2710558, 1972919, 1839752, ...</td>\n",
       "    </tr>\n",
       "    <tr>\n",
       "      <th>4</th>\n",
       "      <td>[3343014, 3343014, 3343014, 691089, 3343014, 2...</td>\n",
       "    </tr>\n",
       "    <tr>\n",
       "      <th>6</th>\n",
       "      <td>[2086598, 298250, 2086598, 2086598, 298250, 20...</td>\n",
       "    </tr>\n",
       "    <tr>\n",
       "      <th>11</th>\n",
       "      <td>[2411567, 2921164, 2411567, 2411567, 2840752, ...</td>\n",
       "    </tr>\n",
       "    <tr>\n",
       "      <th>12</th>\n",
       "      <td>[221248, 221248, 1916106, 1247527, 1057378, 22...</td>\n",
       "    </tr>\n",
       "  </tbody>\n",
       "</table>\n",
       "</div>"
      ],
      "text/plain": [
       "                                                  order_id\n",
       "user_id                                                   \n",
       "3        [1374495, 2037211, 2710558, 1972919, 1839752, ...\n",
       "4        [3343014, 3343014, 3343014, 691089, 3343014, 2...\n",
       "6        [2086598, 298250, 2086598, 2086598, 298250, 20...\n",
       "11       [2411567, 2921164, 2411567, 2411567, 2840752, ...\n",
       "12       [221248, 221248, 1916106, 1247527, 1057378, 22..."
      ]
     },
     "execution_count": 7,
     "metadata": {},
     "output_type": "execute_result"
    }
   ],
   "source": [
    "# For each customer, create an array of order_ids, \n",
    "# and for each order_id, an array of products\n",
    "\n",
    "user_orderlist = pd.DataFrame(test_user_orders.groupby('user_id')\n",
    "                              ['order_id'].apply(list))\n",
    "order_productlist = pd.DataFrame(test_user_orders.groupby('order_id')\n",
    "                                 ['product_id'].apply(list))\n",
    "user_orderlist.head()"
   ]
  },
  {
   "cell_type": "code",
   "execution_count": 8,
   "metadata": {
    "collapsed": false
   },
   "outputs": [
    {
     "data": {
      "text/html": [
       "<div>\n",
       "<table border=\"1\" class=\"dataframe\">\n",
       "  <thead>\n",
       "    <tr style=\"text-align: right;\">\n",
       "      <th></th>\n",
       "      <th>user_id</th>\n",
       "      <th>orders_array</th>\n",
       "    </tr>\n",
       "  </thead>\n",
       "  <tbody>\n",
       "    <tr>\n",
       "      <th>0</th>\n",
       "      <td>3</td>\n",
       "      <td>[1374495, 2037211, 2710558, 1972919, 1839752, ...</td>\n",
       "    </tr>\n",
       "    <tr>\n",
       "      <th>1</th>\n",
       "      <td>4</td>\n",
       "      <td>[3343014, 3343014, 3343014, 691089, 3343014, 2...</td>\n",
       "    </tr>\n",
       "    <tr>\n",
       "      <th>2</th>\n",
       "      <td>6</td>\n",
       "      <td>[2086598, 298250, 2086598, 2086598, 298250, 20...</td>\n",
       "    </tr>\n",
       "    <tr>\n",
       "      <th>3</th>\n",
       "      <td>11</td>\n",
       "      <td>[2411567, 2921164, 2411567, 2411567, 2840752, ...</td>\n",
       "    </tr>\n",
       "    <tr>\n",
       "      <th>4</th>\n",
       "      <td>12</td>\n",
       "      <td>[221248, 221248, 1916106, 1247527, 1057378, 22...</td>\n",
       "    </tr>\n",
       "  </tbody>\n",
       "</table>\n",
       "</div>"
      ],
      "text/plain": [
       "   user_id                                       orders_array\n",
       "0        3  [1374495, 2037211, 2710558, 1972919, 1839752, ...\n",
       "1        4  [3343014, 3343014, 3343014, 691089, 3343014, 2...\n",
       "2        6  [2086598, 298250, 2086598, 2086598, 298250, 20...\n",
       "3       11  [2411567, 2921164, 2411567, 2411567, 2840752, ...\n",
       "4       12  [221248, 221248, 1916106, 1247527, 1057378, 22..."
      ]
     },
     "execution_count": 8,
     "metadata": {},
     "output_type": "execute_result"
    }
   ],
   "source": [
    "# prettify dataframes\n",
    "user_orderlist.reset_index(level='user_id', inplace=True)\n",
    "user_orderlist.columns = ['user_id', 'orders_array']\n",
    "\n",
    "order_productlist.reset_index(level='order_id', inplace=True)\n",
    "order_productlist.columns = ['order_id', 'products_array']\n",
    "user_orderlist.head()"
   ]
  },
  {
   "cell_type": "code",
   "execution_count": 9,
   "metadata": {
    "collapsed": false
   },
   "outputs": [],
   "source": [
    "# Let's add departments and aisles now that we have order product data\n",
    "\n",
    "order_categorylist = pd.DataFrame(test_user_orders.groupby('order_id')\n",
    "                              ['department'].apply(list).apply(np.unique))\n",
    "order_sub_categorylist = pd.DataFrame(test_user_orders.groupby('order_id')\n",
    "                              ['aisle'].apply(list).apply(np.unique))"
   ]
  },
  {
   "cell_type": "code",
   "execution_count": 10,
   "metadata": {
    "collapsed": false
   },
   "outputs": [
    {
     "data": {
      "text/html": [
       "<div>\n",
       "<table border=\"1\" class=\"dataframe\">\n",
       "  <thead>\n",
       "    <tr style=\"text-align: right;\">\n",
       "      <th></th>\n",
       "      <th>order_id</th>\n",
       "      <th>departments_array</th>\n",
       "    </tr>\n",
       "  </thead>\n",
       "  <tbody>\n",
       "    <tr>\n",
       "      <th>0</th>\n",
       "      <td>13</td>\n",
       "      <td>[alcohol, beverages, dairy eggs, pantry, snacks]</td>\n",
       "    </tr>\n",
       "    <tr>\n",
       "      <th>1</th>\n",
       "      <td>15</td>\n",
       "      <td>[beverages, canned goods, pantry, personal care]</td>\n",
       "    </tr>\n",
       "    <tr>\n",
       "      <th>2</th>\n",
       "      <td>16</td>\n",
       "      <td>[beverages, snacks]</td>\n",
       "    </tr>\n",
       "    <tr>\n",
       "      <th>3</th>\n",
       "      <td>18</td>\n",
       "      <td>[babies, beverages, bulk, canned goods, dairy ...</td>\n",
       "    </tr>\n",
       "    <tr>\n",
       "      <th>4</th>\n",
       "      <td>24</td>\n",
       "      <td>[frozen]</td>\n",
       "    </tr>\n",
       "  </tbody>\n",
       "</table>\n",
       "</div>"
      ],
      "text/plain": [
       "   order_id                                  departments_array\n",
       "0        13   [alcohol, beverages, dairy eggs, pantry, snacks]\n",
       "1        15   [beverages, canned goods, pantry, personal care]\n",
       "2        16                                [beverages, snacks]\n",
       "3        18  [babies, beverages, bulk, canned goods, dairy ...\n",
       "4        24                                           [frozen]"
      ]
     },
     "execution_count": 10,
     "metadata": {},
     "output_type": "execute_result"
    }
   ],
   "source": [
    "# Prettify DataFrames\n",
    "order_categorylist.reset_index(level='order_id', inplace=True)\n",
    "order_categorylist.columns = ['order_id', 'departments_array']\n",
    "\n",
    "order_sub_categorylist.reset_index(level='order_id', inplace=True)\n",
    "order_sub_categorylist.columns = ['order_id', 'aisles_array']\n",
    "order_categorylist.head()"
   ]
  },
  {
   "cell_type": "code",
   "execution_count": 56,
   "metadata": {
    "collapsed": false
   },
   "outputs": [
    {
     "data": {
      "text/html": [
       "<div>\n",
       "<table border=\"1\" class=\"dataframe\">\n",
       "  <thead>\n",
       "    <tr style=\"text-align: right;\">\n",
       "      <th></th>\n",
       "      <th>order_id</th>\n",
       "      <th>reordered_array</th>\n",
       "    </tr>\n",
       "  </thead>\n",
       "  <tbody>\n",
       "    <tr>\n",
       "      <th>0</th>\n",
       "      <td>13</td>\n",
       "      <td>[0, 0, 0, 0, 0, 0, 0, 0, 0, 0, 0, 0, 0]</td>\n",
       "    </tr>\n",
       "    <tr>\n",
       "      <th>1</th>\n",
       "      <td>15</td>\n",
       "      <td>[1, 1, 1, 1, 1]</td>\n",
       "    </tr>\n",
       "    <tr>\n",
       "      <th>2</th>\n",
       "      <td>16</td>\n",
       "      <td>[0, 0, 1]</td>\n",
       "    </tr>\n",
       "    <tr>\n",
       "      <th>3</th>\n",
       "      <td>18</td>\n",
       "      <td>[1, 0, 1, 0, 0, 0, 1, 1, 0, 1, 1, 0, 0, 1, 0, ...</td>\n",
       "    </tr>\n",
       "    <tr>\n",
       "      <th>4</th>\n",
       "      <td>24</td>\n",
       "      <td>[0, 0, 0]</td>\n",
       "    </tr>\n",
       "  </tbody>\n",
       "</table>\n",
       "</div>"
      ],
      "text/plain": [
       "   order_id                                    reordered_array\n",
       "0        13            [0, 0, 0, 0, 0, 0, 0, 0, 0, 0, 0, 0, 0]\n",
       "1        15                                    [1, 1, 1, 1, 1]\n",
       "2        16                                          [0, 0, 1]\n",
       "3        18  [1, 0, 1, 0, 0, 0, 1, 1, 0, 1, 1, 0, 0, 1, 0, ...\n",
       "4        24                                          [0, 0, 0]"
      ]
     },
     "execution_count": 56,
     "metadata": {},
     "output_type": "execute_result"
    }
   ],
   "source": [
    "order_reorderlist = pd.DataFrame(test_user_orders.groupby('order_id')\n",
    "                              ['reordered'].apply(list))\n",
    "# Prettify DataFrames\n",
    "order_reorderlist.reset_index(level='order_id', inplace=True)\n",
    "order_reorderlist.columns = ['order_id', 'reordered_array']\n",
    "\n",
    "order_reorderlist.head()"
   ]
  },
  {
   "cell_type": "code",
   "execution_count": 73,
   "metadata": {
    "collapsed": false
   },
   "outputs": [
    {
     "data": {
      "text/html": [
       "<div>\n",
       "<table border=\"1\" class=\"dataframe\">\n",
       "  <thead>\n",
       "    <tr style=\"text-align: right;\">\n",
       "      <th></th>\n",
       "      <th>order_id</th>\n",
       "      <th>reordered_array</th>\n",
       "      <th>reorder_rate</th>\n",
       "      <th>product_count</th>\n",
       "    </tr>\n",
       "  </thead>\n",
       "  <tbody>\n",
       "    <tr>\n",
       "      <th>1167492</th>\n",
       "      <td>3421076</td>\n",
       "      <td>[1, 1, 1, 1, 1, 1, 1, 0]</td>\n",
       "      <td>87.50</td>\n",
       "      <td>8</td>\n",
       "    </tr>\n",
       "    <tr>\n",
       "      <th>1167493</th>\n",
       "      <td>3421077</td>\n",
       "      <td>[0, 0, 0, 0]</td>\n",
       "      <td>0.00</td>\n",
       "      <td>4</td>\n",
       "    </tr>\n",
       "    <tr>\n",
       "      <th>1167494</th>\n",
       "      <td>3421078</td>\n",
       "      <td>[1, 1, 0, 1, 1, 0, 1, 1, 1]</td>\n",
       "      <td>77.78</td>\n",
       "      <td>9</td>\n",
       "    </tr>\n",
       "    <tr>\n",
       "      <th>1167495</th>\n",
       "      <td>3421079</td>\n",
       "      <td>[0]</td>\n",
       "      <td>0.00</td>\n",
       "      <td>1</td>\n",
       "    </tr>\n",
       "    <tr>\n",
       "      <th>1167496</th>\n",
       "      <td>3421083</td>\n",
       "      <td>[1, 1, 0, 1, 1, 0, 0, 0, 0, 0]</td>\n",
       "      <td>40.00</td>\n",
       "      <td>10</td>\n",
       "    </tr>\n",
       "  </tbody>\n",
       "</table>\n",
       "</div>"
      ],
      "text/plain": [
       "         order_id                 reordered_array  reorder_rate  product_count\n",
       "1167492   3421076        [1, 1, 1, 1, 1, 1, 1, 0]         87.50              8\n",
       "1167493   3421077                    [0, 0, 0, 0]          0.00              4\n",
       "1167494   3421078     [1, 1, 0, 1, 1, 0, 1, 1, 1]         77.78              9\n",
       "1167495   3421079                             [0]          0.00              1\n",
       "1167496   3421083  [1, 1, 0, 1, 1, 0, 0, 0, 0, 0]         40.00             10"
      ]
     },
     "execution_count": 73,
     "metadata": {},
     "output_type": "execute_result"
    }
   ],
   "source": [
    "# Let's add reorder rates and product counts for each order\n",
    "\n",
    "order_reorderlist['reorder_rate'] = 0.0\n",
    "order_reorderlist['product_count'] = 0\n",
    "\n",
    "for i in range(len(order_reorderlist)):\n",
    "    reorderlist = order_reorderlist['reordered_array'][i]\n",
    "    order_reorderlist.set_value(i, 'product_count', len(reorderlist))\n",
    "    if 1 in reorderlist:\n",
    "        order_reorderlist.set_value(i, 'reorder_rate', round(np.sum(reorderlist) / float(len(reorderlist))*100, 2))\n",
    "    \n",
    "order_reorderlist.tail()"
   ]
  },
  {
   "cell_type": "code",
   "execution_count": null,
   "metadata": {
    "collapsed": false
   },
   "outputs": [],
   "source": []
  },
  {
   "cell_type": "code",
   "execution_count": null,
   "metadata": {
    "collapsed": false
   },
   "outputs": [],
   "source": [
    "# We have:\n",
    "#  1. Slightly overwhelming DataFrame with complete order history for test users\n",
    "#  2. More approachable DataFrames with orders         for each test user\n",
    "#  3.                                   products       for each test user's orders\n",
    "#  4.                                   product counts for each test user's orders\n",
    "#  5.                                   departments    for each test user's orders\n",
    "#  6.                                   aisles         for each test user's orders\n",
    "#  7.                                   reorder rates  for each test user's orders\n"
   ]
  },
  {
   "cell_type": "code",
   "execution_count": null,
   "metadata": {
    "collapsed": false
   },
   "outputs": [],
   "source": []
  },
  {
   "cell_type": "code",
   "execution_count": null,
   "metadata": {
    "collapsed": false
   },
   "outputs": [],
   "source": []
  },
  {
   "cell_type": "code",
   "execution_count": null,
   "metadata": {
    "collapsed": false
   },
   "outputs": [],
   "source": []
  },
  {
   "cell_type": "code",
   "execution_count": null,
   "metadata": {
    "collapsed": false
   },
   "outputs": [],
   "source": []
  },
  {
   "cell_type": "code",
   "execution_count": null,
   "metadata": {
    "collapsed": false
   },
   "outputs": [],
   "source": []
  },
  {
   "cell_type": "code",
   "execution_count": null,
   "metadata": {
    "collapsed": true
   },
   "outputs": [],
   "source": []
  }
 ],
 "metadata": {
  "kernelspec": {
   "display_name": "Python 2",
   "language": "python",
   "name": "python2"
  },
  "language_info": {
   "codemirror_mode": {
    "name": "ipython",
    "version": 2
   },
   "file_extension": ".py",
   "mimetype": "text/x-python",
   "name": "python",
   "nbconvert_exporter": "python",
   "pygments_lexer": "ipython2",
   "version": "2.7.13"
  }
 },
 "nbformat": 4,
 "nbformat_minor": 2
}
